{
 "cells": [
  {
   "cell_type": "code",
   "execution_count": 5,
   "id": "d5ff2cc0",
   "metadata": {},
   "outputs": [
    {
     "name": "stdout",
     "output_type": "stream",
     "text": [
      "Hello\twornld\n"
     ]
    }
   ],
   "source": [
    "print(\"Hello\\twornld\")  # \\t creates Tab space in String"
   ]
  },
  {
   "cell_type": "code",
   "execution_count": 6,
   "id": "27f65ef2",
   "metadata": {},
   "outputs": [
    {
     "name": "stdout",
     "output_type": "stream",
     "text": [
      "Hello\n",
      "wornld\n"
     ]
    }
   ],
   "source": [
    "print(\"Hello\\nwornld\")   # \\n creates new line in String after the \\n rest strings comes in next line"
   ]
  },
  {
   "cell_type": "code",
   "execution_count": 8,
   "id": "694f6546",
   "metadata": {},
   "outputs": [
    {
     "name": "stdout",
     "output_type": "stream",
     "text": [
      "Hell\\to W\\norld\n"
     ]
    }
   ],
   "source": [
    "print(r\"Hell\\to W\\norld\")  # r before in string keeps all the string as it is  r=raw string"
   ]
  },
  {
   "cell_type": "code",
   "execution_count": 9,
   "id": "c77ac91c",
   "metadata": {},
   "outputs": [
    {
     "name": "stdout",
     "output_type": "stream",
     "text": [
      "python@is@funny\n"
     ]
    }
   ],
   "source": [
    "print(\"python\",\"is\", \"funny\",sep=\"@\") # by default separator is SPACE we can keep space as per our requirements"
   ]
  },
  {
   "cell_type": "code",
   "execution_count": 11,
   "id": "f31d9830",
   "metadata": {},
   "outputs": [
    {
     "name": "stdout",
     "output_type": "stream",
     "text": [
      "Debendra Kumar Nayak\tAuthor\n"
     ]
    }
   ],
   "source": [
    "print(\"Debendra\", \"Kumar\",\"Nayak\",end = \"\\t\")  #To keep all the two print function value in same line\n",
    "print(\"Author\")"
   ]
  },
  {
   "cell_type": "code",
   "execution_count": 4,
   "id": "b55c44c6",
   "metadata": {},
   "outputs": [],
   "source": [
    "# There are 35 keywords, 32 are in lower case and 3 in Capitalize case(True, False, None)"
   ]
  },
  {
   "cell_type": "markdown",
   "id": "1b1653b9",
   "metadata": {},
   "source": [
    "                             Type Casting"
   ]
  },
  {
   "cell_type": "code",
   "execution_count": null,
   "id": "f5b0fd20",
   "metadata": {},
   "outputs": [],
   "source": [
    "# +,-,*, / = arithmatic True division, //= floor division, % = Modulo (reminder) division, ** = power division\n"
   ]
  },
  {
   "cell_type": "markdown",
   "id": "38e0aa24",
   "metadata": {},
   "source": [
    "n=int(input(\"Enter your First Number = \" ))    # data type of Input fucion is always String  \n",
    "m=int(input(\"Enter your Second Number = \"))\n",
    "i=print(\"result = \",  n+m)"
   ]
  },
  {
   "cell_type": "code",
   "execution_count": 14,
   "id": "32f2f801",
   "metadata": {},
   "outputs": [
    {
     "name": "stdout",
     "output_type": "stream",
     "text": [
      "enter number or float =5\n",
      "enter number or float = 6.7\n",
      "<class 'int'>\n",
      "<class 'float'>\n"
     ]
    }
   ],
   "source": [
    "s = eval(input(\"enter number or float =\"))  # Float function dynamically change the data type to either int or float as per input\n",
    "t = eval(input(\"enter number or float = \"))\n",
    "print(type(s))\n",
    "print(type(t))"
   ]
  },
  {
   "cell_type": "markdown",
   "id": "48e2fd3d",
   "metadata": {},
   "source": [
    "# Ef  Else  conditional statements"
   ]
  },
  {
   "cell_type": "code",
   "execution_count": 15,
   "id": "12e04f4b",
   "metadata": {},
   "outputs": [
    {
     "name": "stdout",
     "output_type": "stream",
     "text": [
      "Enter marks:30\n",
      "Pass\n"
     ]
    }
   ],
   "source": [
    "marks = int(input(\"Enter marks:\"))  #indetation is mandatory for if else statements\n",
    "if (marks>=30):                     #if else\n",
    "    print(\"Pass\")\n",
    "else:\n",
    "    print(\"Fail\")"
   ]
  },
  {
   "cell_type": "code",
   "execution_count": 16,
   "id": "154533b5",
   "metadata": {},
   "outputs": [
    {
     "name": "stdout",
     "output_type": "stream",
     "text": [
      "please enter your mark here :45\n",
      "pass with second division\n"
     ]
    }
   ],
   "source": [
    "mark=int(input(\"please enter your mark here :\"))       # if and elif condition\n",
    "if (mark>=0 and mark<30):\n",
    "    print(\"Fail\")\n",
    "elif (mark>=30 and mark<45):\n",
    "    print(\"pass with Third division\")\n",
    "elif (mark>=45 and mark<60):\n",
    "    print(\"pass with second division\")\n",
    "elif (mark>=60 and mark<=100):\n",
    "    print(\"pass with First division\")\n",
    "else:\n",
    "    print(\"invalid mark\")\n"
   ]
  },
  {
   "cell_type": "code",
   "execution_count": 17,
   "id": "2912898e",
   "metadata": {},
   "outputs": [
    {
     "name": "stdout",
     "output_type": "stream",
     "text": [
      "enter amount :1000\n",
      "final amount:  950\n"
     ]
    }
   ],
   "source": [
    "amount=int(input(\"enter amount :\"))       # only if condition\n",
    "if amount>=1000:\n",
    "    amount=amount-50\n",
    "print(\"final amount: \",amount)"
   ]
  },
  {
   "cell_type": "code",
   "execution_count": 23,
   "id": "1e432fca",
   "metadata": {},
   "outputs": [
    {
     "name": "stdout",
     "output_type": "stream",
     "text": [
      "enter amount :1200\n",
      "enter promo code:india\n",
      "final amount:  1100\n"
     ]
    }
   ],
   "source": [
    "amount=int(input(\"enter amount :\"))       # Nested if condition\n",
    "if amount>=1000:\n",
    "    amount=amount-50\n",
    "    pc=input(\"enter promo code:\")\n",
    "    if pc=='india':\n",
    "        amount=amount-50\n",
    "print(\"final amount: \",amount)"
   ]
  },
  {
   "cell_type": "code",
   "execution_count": 24,
   "id": "75a6963f",
   "metadata": {},
   "outputs": [
    {
     "name": "stdout",
     "output_type": "stream",
     "text": [
      "mango\n"
     ]
    }
   ],
   "source": [
    "if 10:                         # 0,0.0, None or empty string pythong interprates as False rest all are True\n",
    "    print(\"mango\")\n",
    "else:\n",
    "    print(\"orange\")"
   ]
  },
  {
   "cell_type": "code",
   "execution_count": 25,
   "id": "7e537e1d",
   "metadata": {},
   "outputs": [
    {
     "name": "stdout",
     "output_type": "stream",
     "text": [
      "orange\n"
     ]
    }
   ],
   "source": [
    "if 0.0:                         # 0, 0.0, iNone or empty string pythong interprates as False rest all are True\n",
    "    print(\"mango\")\n",
    "else:\n",
    "    print(\"orange\")"
   ]
  },
  {
   "cell_type": "markdown",
   "id": "3ce8c74a",
   "metadata": {},
   "source": [
    "# LOOP   (do loop & while Loop) while loop runs till condition is False"
   ]
  },
  {
   "cell_type": "code",
   "execution_count": 27,
   "id": "717d4f19",
   "metadata": {},
   "outputs": [
    {
     "name": "stdout",
     "output_type": "stream",
     "text": [
      "enter your number:5\n",
      "5\n",
      "10\n",
      "15\n",
      "20\n",
      "25\n",
      "30\n",
      "35\n",
      "40\n",
      "45\n",
      "50\n"
     ]
    }
   ],
   "source": [
    "num=int(input(\"enter your number:\"))              #While LOOP\n",
    "i=1\n",
    "while (i<=10 ):\n",
    "    print(num*i)\n",
    "    i+=1\n",
    "    "
   ]
  },
  {
   "cell_type": "code",
   "execution_count": 28,
   "id": "737fbfcf",
   "metadata": {},
   "outputs": [
    {
     "name": "stdout",
     "output_type": "stream",
     "text": [
      "1 odd\n",
      "2 even\n",
      "3 odd\n",
      "4 even\n",
      "5 odd\n",
      "6 even\n",
      "7 odd\n",
      "8 even\n",
      "9 odd\n",
      "10 even\n"
     ]
    }
   ],
   "source": [
    "num = 1                        # Second Example\n",
    "while (num<=10):\n",
    "    if (num%2==0):    \n",
    "        print(num,\"even\")\n",
    "    else:\n",
    "        print(num,\"odd\")\n",
    "    num+=1\n",
    "    "
   ]
  },
  {
   "cell_type": "code",
   "execution_count": 30,
   "id": "08adf574",
   "metadata": {},
   "outputs": [
    {
     "name": "stdout",
     "output_type": "stream",
     "text": [
      "apple\n",
      "apple\n"
     ]
    }
   ],
   "source": [
    "num=1\n",
    "while (num<=10):                 # loop with break condition to terminate the loop with condition\n",
    "    print(\"apple\")\n",
    "    num+=1\n",
    "    if (num==3):\n",
    "        break"
   ]
  },
  {
   "cell_type": "code",
   "execution_count": 35,
   "id": "222405b6",
   "metadata": {},
   "outputs": [
    {
     "name": "stdout",
     "output_type": "stream",
     "text": [
      "python\n",
      "10\n",
      "12.23\n",
      "sub\n"
     ]
    }
   ],
   "source": [
    "for i in \"python\",10,12.23,\"sub\":         # For loop(it can be sequence or comma separated value)\n",
    "    print(i)\n"
   ]
  },
  {
   "cell_type": "code",
   "execution_count": 34,
   "id": "7420a751",
   "metadata": {},
   "outputs": [
    {
     "name": "stdout",
     "output_type": "stream",
     "text": [
      "1\n",
      "2\n",
      "3\n",
      "4\n"
     ]
    }
   ],
   "source": [
    "for i in range(1,5):             #Sequence\n",
    "    print(i)"
   ]
  },
  {
   "cell_type": "markdown",
   "id": "9ebce9cb",
   "metadata": {},
   "source": [
    "# #Small project using loop,if else, input, int,/n,contine,break"
   ]
  },
  {
   "cell_type": "code",
   "execution_count": 3,
   "id": "2606fa36",
   "metadata": {},
   "outputs": [
    {
     "name": "stdout",
     "output_type": "stream",
     "text": [
      "Enter 1st number:4\n",
      "Enter 2nd number:5\n",
      "Select an option\n",
      "1.add\n",
      "2.mul\n",
      "3.div\n",
      "2\n",
      "multiplication: 20\n",
      "Do you want to continue(y/n):y\n",
      "Enter 1st number:6\n",
      "Enter 2nd number:2\n",
      "Select an option\n",
      "1.add\n",
      "2.mul\n",
      "3.div\n",
      "3\n",
      "Division: 3.0\n",
      "Do you want to continue(y/n):n\n",
      "Thank you!\n"
     ]
    }
   ],
   "source": [
    "while(True):\n",
    "    a=int(input(\"Enter 1st number:\"))                  \n",
    "    b=int(input(\"Enter 2nd number:\"))\n",
    "    o=int(input(\"Select an option\\n1.add\\n2.mul\\n3.div\\n\"))\n",
    "    if (o==1):\n",
    "        print(\"addition:\",a+b)\n",
    "    elif (o==2):\n",
    "        print(\"multiplication:\",a*b)\n",
    "    elif (o==3):\n",
    "        print(\"Division:\",a/b)\n",
    "    else:\n",
    "        print(\"invalid entry\")\n",
    "    ch=input(\"Do you want to continue(y/n):\")\n",
    "    if ch==\"y\":\n",
    "        continue\n",
    "    else:\n",
    "        break\n",
    "print(\"Thank you!\")"
   ]
  },
  {
   "cell_type": "code",
   "execution_count": null,
   "id": "89cdd021",
   "metadata": {},
   "outputs": [],
   "source": [
    "\"\"\" \n",
    "Data Types\n",
    "1.int\n",
    "2.float\n",
    "3.complex\n",
    "4.bool\n",
    "5.NoneType\n",
    "6.Str\n",
    "\n",
    "Data Structure\n",
    "1.list\n",
    "2.tuple\n",
    "3.set\n",
    "4.dictionary\n",
    "5.frozenset\n",
    "etc.\n",
    "\"\"\""
   ]
  },
  {
   "cell_type": "markdown",
   "id": "ab3dd71f",
   "metadata": {},
   "source": [
    "String  # for multiline string we can use triple quote # String is immutable, any operation happens in string it doesn't change           the existing string. it creates a new varible and keep it in memory."
   ]
  },
  {
   "cell_type": "code",
   "execution_count": 7,
   "id": "f42e12f3",
   "metadata": {},
   "outputs": [
    {
     "name": "stdout",
     "output_type": "stream",
     "text": [
      "sdddd        \n",
      "dgdgd\n",
      "sdgdg\n"
     ]
    }
   ],
   "source": [
    "s = \"\"\"sdddd         \n",
    "dgdgd\n",
    "sdgdg\"\"\"\n",
    "print(s)"
   ]
  },
  {
   "cell_type": "code",
   "execution_count": 9,
   "id": "718f03ce",
   "metadata": {},
   "outputs": [
    {
     "name": "stdout",
     "output_type": "stream",
     "text": [
      "6\n"
     ]
    }
   ],
   "source": [
    "s=\"python\"    # len = length of the string\n",
    "print(len(s))"
   ]
  },
  {
   "cell_type": "code",
   "execution_count": 1,
   "id": "d46e52d7",
   "metadata": {},
   "outputs": [
    {
     "name": "stdout",
     "output_type": "stream",
     "text": [
      "True\n"
     ]
    }
   ],
   "source": [
    "s=\"python is a laguage\" #membership operator, it returns True or False and this is case sensitive\n",
    "print('a' in s)"
   ]
  },
  {
   "cell_type": "code",
   "execution_count": 2,
   "id": "e1364b58",
   "metadata": {},
   "outputs": [
    {
     "name": "stdout",
     "output_type": "stream",
     "text": [
      "True\n"
     ]
    }
   ],
   "source": [
    "s=\"python is a laguage\" \n",
    "print('on' in s)"
   ]
  },
  {
   "cell_type": "code",
   "execution_count": 8,
   "id": "f35a2652",
   "metadata": {},
   "outputs": [
    {
     "data": {
      "text/plain": [
       "'python is a laguage'"
      ]
     },
     "execution_count": 8,
     "metadata": {},
     "output_type": "execute_result"
    }
   ],
   "source": [
    "s.casefold()"
   ]
  },
  {
   "cell_type": "markdown",
   "id": "7a2e9989",
   "metadata": {},
   "source": [
    "hep(str) # you can find all methods(functions) for string data type"
   ]
  },
  {
   "cell_type": "code",
   "execution_count": null,
   "id": "abb800bf",
   "metadata": {},
   "outputs": [],
   "source": [
    "s=input(\"enter the workd:\")\n",
    "    rs=s[::-1]\n",
    "    if s==rs:\n",
    "        \n",
    "        print(\"Palindrom\")\n",
    "    else:\n",
    "        print(\"not a palindrom\")"
   ]
  },
  {
   "cell_type": "markdown",
   "id": "2b298ee3",
   "metadata": {},
   "source": [
    "https://www.w3schools.com/python/python_ref_string.asp  \n",
    "\n",
    "https://www.geeksforgeeks.org/python-substring-presence-in-strings-list/"
   ]
  },
  {
   "cell_type": "markdown",
   "id": "990b51aa",
   "metadata": {},
   "source": [
    "List : It represents group of values of any data type\n",
    "       Supports indexing and slicing\n",
    "       Supports duplicate values\n",
    "       List is Mutable\n",
    "       Mantains order of elements"
   ]
  },
  {
   "cell_type": "markdown",
   "id": "30259f92",
   "metadata": {},
   "source": [
    "List :  It represents group of values of any data type \n",
    "        Supports indexing and slicing \n",
    "        Supports duplicate values \n",
    "        List is Mutable \n",
    "        Mantains order of elements\n",
    "        List is Iterable\n",
    "        [] = it can be used for indexing, slicing & List. "
   ]
  },
  {
   "cell_type": "code",
   "execution_count": 1,
   "id": "d03a1220",
   "metadata": {},
   "outputs": [
    {
     "name": "stdout",
     "output_type": "stream",
     "text": [
      "[1, 2, 3, 4, 4.5, 'sonu', True, 10, 9.76]\n"
     ]
    }
   ],
   "source": [
    "l=[1,2,3,4,4.5,'sonu',True,10,9.76]\n",
    "print(l)"
   ]
  },
  {
   "cell_type": "code",
   "execution_count": 2,
   "id": "7fdba677",
   "metadata": {},
   "outputs": [
    {
     "name": "stdout",
     "output_type": "stream",
     "text": [
      "[1, 2, 3, 4, 4.5, 'sonu', True, 10, 9.76]\n"
     ]
    }
   ],
   "source": [
    "print(l)"
   ]
  },
  {
   "cell_type": "code",
   "execution_count": 3,
   "id": "874d0450",
   "metadata": {},
   "outputs": [
    {
     "name": "stdout",
     "output_type": "stream",
     "text": [
      "['deb', 2, 3, 4, 4.5, 'sonu', True, 10, 9.76]\n"
     ]
    }
   ],
   "source": [
    "l[0]=\"deb\"\n",
    "print(l)"
   ]
  },
  {
   "cell_type": "code",
   "execution_count": 4,
   "id": "1721a7d8",
   "metadata": {},
   "outputs": [
    {
     "name": "stdout",
     "output_type": "stream",
     "text": [
      "9.76\n"
     ]
    }
   ],
   "source": [
    "print(l[-1])"
   ]
  },
  {
   "cell_type": "code",
   "execution_count": null,
   "id": "779d9f4e",
   "metadata": {},
   "outputs": [],
   "source": []
  }
 ],
 "metadata": {
  "kernelspec": {
   "display_name": "Python 3",
   "language": "python",
   "name": "python3"
  },
  "language_info": {
   "codemirror_mode": {
    "name": "ipython",
    "version": 3
   },
   "file_extension": ".py",
   "mimetype": "text/x-python",
   "name": "python",
   "nbconvert_exporter": "python",
   "pygments_lexer": "ipython3",
   "version": "3.8.8"
  }
 },
 "nbformat": 4,
 "nbformat_minor": 5
}
